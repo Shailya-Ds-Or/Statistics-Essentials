{
 "cells": [
  {
   "cell_type": "markdown",
   "id": "6de990be",
   "metadata": {},
   "source": [
    "# Descriptive Statistics Using Numpy"
   ]
  },
  {
   "cell_type": "code",
   "execution_count": 4,
   "id": "88e73d97",
   "metadata": {},
   "outputs": [],
   "source": [
    "import numpy as np"
   ]
  },
  {
   "cell_type": "markdown",
   "id": "55cd3856",
   "metadata": {},
   "source": [
    "#### Descriptive Statistics of List Using Numpy:"
   ]
  },
  {
   "cell_type": "code",
   "execution_count": 7,
   "id": "c5ee83c5",
   "metadata": {},
   "outputs": [],
   "source": [
    "lst = [12,15,17,90,31,42,54,32,12,12]"
   ]
  },
  {
   "cell_type": "code",
   "execution_count": null,
   "id": "fe817576",
   "metadata": {},
   "outputs": [],
   "source": []
  },
  {
   "cell_type": "code",
   "execution_count": 8,
   "id": "048ea206",
   "metadata": {},
   "outputs": [
    {
     "data": {
      "text/plain": [
       "31.7"
      ]
     },
     "execution_count": 8,
     "metadata": {},
     "output_type": "execute_result"
    }
   ],
   "source": [
    "# Finding Mean\n",
    "\n",
    "np.mean(lst)"
   ]
  },
  {
   "cell_type": "code",
   "execution_count": 9,
   "id": "93ef1557",
   "metadata": {},
   "outputs": [
    {
     "data": {
      "text/plain": [
       "24.0"
      ]
     },
     "execution_count": 9,
     "metadata": {},
     "output_type": "execute_result"
    }
   ],
   "source": [
    "# Finding Median\n",
    "\n",
    "np.median(lst)"
   ]
  },
  {
   "cell_type": "code",
   "execution_count": 11,
   "id": "e95afc1a",
   "metadata": {},
   "outputs": [
    {
     "data": {
      "text/plain": [
       "23.795167576632025"
      ]
     },
     "execution_count": 11,
     "metadata": {},
     "output_type": "execute_result"
    }
   ],
   "source": [
    "# Finding Standata Deviation\n",
    "\n",
    "np.std(lst)"
   ]
  },
  {
   "cell_type": "code",
   "execution_count": 12,
   "id": "bfe2c06c",
   "metadata": {},
   "outputs": [
    {
     "data": {
      "text/plain": [
       "566.21"
      ]
     },
     "execution_count": 12,
     "metadata": {},
     "output_type": "execute_result"
    }
   ],
   "source": [
    "# Finding Variance\n",
    "np.var(lst)"
   ]
  },
  {
   "cell_type": "code",
   "execution_count": null,
   "id": "c102b442",
   "metadata": {},
   "outputs": [],
   "source": []
  },
  {
   "cell_type": "markdown",
   "id": "17f63cb7",
   "metadata": {},
   "source": [
    "#### Descriptive Statistics of 1-D Array Using Numpy:"
   ]
  },
  {
   "cell_type": "code",
   "execution_count": 14,
   "id": "c501a4bf",
   "metadata": {},
   "outputs": [],
   "source": [
    "array_1d = np.random.randint(0,50,25) "
   ]
  },
  {
   "cell_type": "code",
   "execution_count": 15,
   "id": "fd5397d9",
   "metadata": {},
   "outputs": [
    {
     "data": {
      "text/plain": [
       "array([ 0, 30,  0, 47, 49, 21, 42,  8,  3, 19, 17, 44, 28,  9, 11, 47,  5,\n",
       "       15, 14, 43, 30, 29, 36, 40, 31])"
      ]
     },
     "execution_count": 15,
     "metadata": {},
     "output_type": "execute_result"
    }
   ],
   "source": [
    "array_1d"
   ]
  },
  {
   "cell_type": "code",
   "execution_count": 16,
   "id": "27fa0528",
   "metadata": {},
   "outputs": [
    {
     "data": {
      "text/plain": [
       "24.72"
      ]
     },
     "execution_count": 16,
     "metadata": {},
     "output_type": "execute_result"
    }
   ],
   "source": [
    "# Mean of 1-D Array\n",
    "np.mean(array_1d)"
   ]
  },
  {
   "cell_type": "code",
   "execution_count": 17,
   "id": "00b6ff0a",
   "metadata": {},
   "outputs": [
    {
     "data": {
      "text/plain": [
       "24.72"
      ]
     },
     "execution_count": 17,
     "metadata": {},
     "output_type": "execute_result"
    }
   ],
   "source": [
    "# Mean of 1-D Array\n",
    "array_1d.mean()"
   ]
  },
  {
   "cell_type": "code",
   "execution_count": null,
   "id": "08b40ae7",
   "metadata": {},
   "outputs": [],
   "source": []
  },
  {
   "cell_type": "code",
   "execution_count": 18,
   "id": "ea97a5b5",
   "metadata": {},
   "outputs": [
    {
     "data": {
      "text/plain": [
       "28.0"
      ]
     },
     "execution_count": 18,
     "metadata": {},
     "output_type": "execute_result"
    }
   ],
   "source": [
    "# Median of 1-D Array\n",
    "np.median(array_1d)"
   ]
  },
  {
   "cell_type": "code",
   "execution_count": null,
   "id": "635e6e9f",
   "metadata": {},
   "outputs": [],
   "source": []
  },
  {
   "cell_type": "code",
   "execution_count": 20,
   "id": "d00976c9",
   "metadata": {},
   "outputs": [
    {
     "data": {
      "text/plain": [
       "247.4016"
      ]
     },
     "execution_count": 20,
     "metadata": {},
     "output_type": "execute_result"
    }
   ],
   "source": [
    "# Variance of 1-D Array\n",
    "np.var(array_1d)"
   ]
  },
  {
   "cell_type": "code",
   "execution_count": 21,
   "id": "68d5e143",
   "metadata": {},
   "outputs": [
    {
     "data": {
      "text/plain": [
       "247.4016"
      ]
     },
     "execution_count": 21,
     "metadata": {},
     "output_type": "execute_result"
    }
   ],
   "source": [
    "# Variance of 1-D Array\n",
    "array_1d.var()"
   ]
  },
  {
   "cell_type": "code",
   "execution_count": null,
   "id": "6bb3cbea",
   "metadata": {},
   "outputs": [],
   "source": []
  },
  {
   "cell_type": "code",
   "execution_count": 22,
   "id": "b9b2b0b2",
   "metadata": {},
   "outputs": [
    {
     "data": {
      "text/plain": [
       "15.72900505435738"
      ]
     },
     "execution_count": 22,
     "metadata": {},
     "output_type": "execute_result"
    }
   ],
   "source": [
    "# Standard Deviation of 1-D Array\n",
    "np.std(array_1d)"
   ]
  },
  {
   "cell_type": "code",
   "execution_count": 23,
   "id": "91364e34",
   "metadata": {},
   "outputs": [
    {
     "data": {
      "text/plain": [
       "15.72900505435738"
      ]
     },
     "execution_count": 23,
     "metadata": {},
     "output_type": "execute_result"
    }
   ],
   "source": [
    "# Standard Deviation of 1-D Array\n",
    "array_1d.std()"
   ]
  },
  {
   "cell_type": "code",
   "execution_count": null,
   "id": "da7ec15c",
   "metadata": {},
   "outputs": [],
   "source": []
  },
  {
   "cell_type": "markdown",
   "id": "59c7c26f",
   "metadata": {},
   "source": [
    "#### Descriptive Statistics of 2-D Array Using Numpy:"
   ]
  },
  {
   "cell_type": "code",
   "execution_count": 24,
   "id": "ca37f5b1",
   "metadata": {},
   "outputs": [],
   "source": [
    "array_2d = array_1d.reshape(5,5)"
   ]
  },
  {
   "cell_type": "code",
   "execution_count": 25,
   "id": "fbff055a",
   "metadata": {},
   "outputs": [
    {
     "data": {
      "text/plain": [
       "array([[ 0, 30,  0, 47, 49],\n",
       "       [21, 42,  8,  3, 19],\n",
       "       [17, 44, 28,  9, 11],\n",
       "       [47,  5, 15, 14, 43],\n",
       "       [30, 29, 36, 40, 31]])"
      ]
     },
     "execution_count": 25,
     "metadata": {},
     "output_type": "execute_result"
    }
   ],
   "source": [
    "array_2d"
   ]
  },
  {
   "cell_type": "code",
   "execution_count": null,
   "id": "202db130",
   "metadata": {},
   "outputs": [],
   "source": []
  },
  {
   "cell_type": "code",
   "execution_count": 26,
   "id": "5e3df147",
   "metadata": {},
   "outputs": [
    {
     "data": {
      "text/plain": [
       "24.72"
      ]
     },
     "execution_count": 26,
     "metadata": {},
     "output_type": "execute_result"
    }
   ],
   "source": [
    "# Mean of All Elements in 2-D Array\n",
    "np.mean(array_2d)"
   ]
  },
  {
   "cell_type": "code",
   "execution_count": 27,
   "id": "0a5f7cc8",
   "metadata": {},
   "outputs": [
    {
     "data": {
      "text/plain": [
       "24.72"
      ]
     },
     "execution_count": 27,
     "metadata": {},
     "output_type": "execute_result"
    }
   ],
   "source": [
    "# Mean of All Elements in 2-D Array\n",
    "array_2d.mean()"
   ]
  },
  {
   "cell_type": "code",
   "execution_count": null,
   "id": "b9ba3efd",
   "metadata": {},
   "outputs": [],
   "source": []
  },
  {
   "cell_type": "code",
   "execution_count": 28,
   "id": "19ad9508",
   "metadata": {},
   "outputs": [
    {
     "data": {
      "text/plain": [
       "28.0"
      ]
     },
     "execution_count": 28,
     "metadata": {},
     "output_type": "execute_result"
    }
   ],
   "source": [
    "# Median of All Elements in 2-D Array\n",
    "np.median(array_2d)"
   ]
  },
  {
   "cell_type": "code",
   "execution_count": null,
   "id": "d302655e",
   "metadata": {},
   "outputs": [],
   "source": []
  },
  {
   "cell_type": "code",
   "execution_count": 29,
   "id": "9aea2a31",
   "metadata": {},
   "outputs": [
    {
     "data": {
      "text/plain": [
       "247.4016"
      ]
     },
     "execution_count": 29,
     "metadata": {},
     "output_type": "execute_result"
    }
   ],
   "source": [
    "# Variance of All Elements in 2-D Array\n",
    "np.var(array_2d)"
   ]
  },
  {
   "cell_type": "code",
   "execution_count": 30,
   "id": "ab467a0c",
   "metadata": {},
   "outputs": [
    {
     "data": {
      "text/plain": [
       "247.4016"
      ]
     },
     "execution_count": 30,
     "metadata": {},
     "output_type": "execute_result"
    }
   ],
   "source": [
    "# Variance of All Elements in 2-D Array\n",
    "array_2d.var()"
   ]
  },
  {
   "cell_type": "code",
   "execution_count": null,
   "id": "461da3fb",
   "metadata": {},
   "outputs": [],
   "source": []
  },
  {
   "cell_type": "code",
   "execution_count": 31,
   "id": "77d02192",
   "metadata": {},
   "outputs": [
    {
     "data": {
      "text/plain": [
       "15.72900505435738"
      ]
     },
     "execution_count": 31,
     "metadata": {},
     "output_type": "execute_result"
    }
   ],
   "source": [
    "# Standarad Deviation of All Elements in 2-D Array\n",
    "np.std(array_2d)"
   ]
  },
  {
   "cell_type": "code",
   "execution_count": 32,
   "id": "04da91a7",
   "metadata": {},
   "outputs": [
    {
     "data": {
      "text/plain": [
       "15.72900505435738"
      ]
     },
     "execution_count": 32,
     "metadata": {},
     "output_type": "execute_result"
    }
   ],
   "source": [
    "# Standarad Deviation of All Elements in 2-D Array\n",
    "array_2d.std()"
   ]
  },
  {
   "cell_type": "code",
   "execution_count": null,
   "id": "0483fe66",
   "metadata": {},
   "outputs": [],
   "source": []
  },
  {
   "cell_type": "code",
   "execution_count": 33,
   "id": "63caf3f4",
   "metadata": {},
   "outputs": [
    {
     "data": {
      "text/plain": [
       "array([[ 0, 30,  0, 47, 49],\n",
       "       [21, 42,  8,  3, 19],\n",
       "       [17, 44, 28,  9, 11],\n",
       "       [47,  5, 15, 14, 43],\n",
       "       [30, 29, 36, 40, 31]])"
      ]
     },
     "execution_count": 33,
     "metadata": {},
     "output_type": "execute_result"
    }
   ],
   "source": [
    "array_2d"
   ]
  },
  {
   "cell_type": "code",
   "execution_count": null,
   "id": "2eede326",
   "metadata": {},
   "outputs": [],
   "source": [
    "# Mean, Median, Standard Deviation and Variance Across Rows od 2-D Array"
   ]
  },
  {
   "cell_type": "code",
   "execution_count": 34,
   "id": "db4de5d7",
   "metadata": {},
   "outputs": [
    {
     "data": {
      "text/plain": [
       "array([23. , 30. , 17.4, 22.6, 30.6])"
      ]
     },
     "execution_count": 34,
     "metadata": {},
     "output_type": "execute_result"
    }
   ],
   "source": [
    "np.mean(array_2d, axis = 0) # Axis= 0 Meaning Mean Across The Rows"
   ]
  },
  {
   "cell_type": "code",
   "execution_count": 36,
   "id": "8ea36283",
   "metadata": {},
   "outputs": [
    {
     "data": {
      "text/plain": [
       "array([23. , 30. , 17.4, 22.6, 30.6])"
      ]
     },
     "execution_count": 36,
     "metadata": {},
     "output_type": "execute_result"
    }
   ],
   "source": [
    "array_2d.mean(axis= 0)"
   ]
  },
  {
   "cell_type": "code",
   "execution_count": null,
   "id": "ed05224d",
   "metadata": {},
   "outputs": [],
   "source": []
  },
  {
   "cell_type": "code",
   "execution_count": 35,
   "id": "0bc539ef",
   "metadata": {},
   "outputs": [
    {
     "data": {
      "text/plain": [
       "array([25.2, 18.6, 21.8, 24.8, 33.2])"
      ]
     },
     "execution_count": 35,
     "metadata": {},
     "output_type": "execute_result"
    }
   ],
   "source": [
    "np.mean(array_2d, axis = 1) # Axis= 1 Meanind Mean Across The Columns"
   ]
  },
  {
   "cell_type": "code",
   "execution_count": 37,
   "id": "ccb257ad",
   "metadata": {},
   "outputs": [
    {
     "data": {
      "text/plain": [
       "array([25.2, 18.6, 21.8, 24.8, 33.2])"
      ]
     },
     "execution_count": 37,
     "metadata": {},
     "output_type": "execute_result"
    }
   ],
   "source": [
    "array_2d.mean(axis= 1)"
   ]
  },
  {
   "cell_type": "code",
   "execution_count": null,
   "id": "8421405d",
   "metadata": {},
   "outputs": [],
   "source": []
  },
  {
   "cell_type": "code",
   "execution_count": 38,
   "id": "049e9136",
   "metadata": {},
   "outputs": [
    {
     "data": {
      "text/plain": [
       "array([21., 30., 15., 14., 31.])"
      ]
     },
     "execution_count": 38,
     "metadata": {},
     "output_type": "execute_result"
    }
   ],
   "source": [
    "np.median(array_2d, axis = 0) # Axis= 0 Meaning Median Across The Rows"
   ]
  },
  {
   "cell_type": "code",
   "execution_count": 39,
   "id": "56403e7a",
   "metadata": {},
   "outputs": [
    {
     "data": {
      "text/plain": [
       "array([30., 19., 17., 15., 31.])"
      ]
     },
     "execution_count": 39,
     "metadata": {},
     "output_type": "execute_result"
    }
   ],
   "source": [
    "np.median(array_2d, axis = 1) # Axis= 0 Meaning Median Across The Columns"
   ]
  },
  {
   "cell_type": "code",
   "execution_count": null,
   "id": "7d340f3a",
   "metadata": {},
   "outputs": [],
   "source": []
  },
  {
   "cell_type": "code",
   "execution_count": 40,
   "id": "fdc3936e",
   "metadata": {},
   "outputs": [
    {
     "data": {
      "text/plain": [
       "array([238.8 , 193.2 , 171.04, 308.24, 202.24])"
      ]
     },
     "execution_count": 40,
     "metadata": {},
     "output_type": "execute_result"
    }
   ],
   "source": [
    "np.var(array_2d, axis = 0) # Axis= 0 Meaning Variance Across The Rows"
   ]
  },
  {
   "cell_type": "code",
   "execution_count": 41,
   "id": "f269d1b0",
   "metadata": {},
   "outputs": [
    {
     "data": {
      "text/plain": [
       "array([238.8 , 193.2 , 171.04, 308.24, 202.24])"
      ]
     },
     "execution_count": 41,
     "metadata": {},
     "output_type": "execute_result"
    }
   ],
   "source": [
    "array_2d.var(axis= 0)"
   ]
  },
  {
   "cell_type": "code",
   "execution_count": null,
   "id": "bca06e06",
   "metadata": {},
   "outputs": [],
   "source": []
  },
  {
   "cell_type": "code",
   "execution_count": 42,
   "id": "b593bd59",
   "metadata": {},
   "outputs": [
    {
     "data": {
      "text/plain": [
       "array([466.96, 181.84, 166.96, 285.76,  17.36])"
      ]
     },
     "execution_count": 42,
     "metadata": {},
     "output_type": "execute_result"
    }
   ],
   "source": [
    "np.var(array_2d, axis = 1) # Axis= 1 Meaning Variance Across The Columns"
   ]
  },
  {
   "cell_type": "code",
   "execution_count": 43,
   "id": "4dd8984b",
   "metadata": {},
   "outputs": [
    {
     "data": {
      "text/plain": [
       "array([466.96, 181.84, 166.96, 285.76,  17.36])"
      ]
     },
     "execution_count": 43,
     "metadata": {},
     "output_type": "execute_result"
    }
   ],
   "source": [
    "array_2d.var(axis= 1)"
   ]
  },
  {
   "cell_type": "code",
   "execution_count": null,
   "id": "94eec689",
   "metadata": {},
   "outputs": [],
   "source": []
  },
  {
   "cell_type": "code",
   "execution_count": 44,
   "id": "b919b18a",
   "metadata": {},
   "outputs": [
    {
     "data": {
      "text/plain": [
       "array([15.45315502, 13.89964028, 13.07822618, 17.55676508, 14.22111107])"
      ]
     },
     "execution_count": 44,
     "metadata": {},
     "output_type": "execute_result"
    }
   ],
   "source": [
    "np.std(array_2d, axis = 0) # Axis= 0 Meaning Standard Deviation Across The Rows"
   ]
  },
  {
   "cell_type": "code",
   "execution_count": 45,
   "id": "fd078c09",
   "metadata": {},
   "outputs": [
    {
     "data": {
      "text/plain": [
       "array([15.45315502, 13.89964028, 13.07822618, 17.55676508, 14.22111107])"
      ]
     },
     "execution_count": 45,
     "metadata": {},
     "output_type": "execute_result"
    }
   ],
   "source": [
    "array_2d.std(axis= 0 )"
   ]
  },
  {
   "cell_type": "code",
   "execution_count": null,
   "id": "233a8598",
   "metadata": {},
   "outputs": [],
   "source": []
  },
  {
   "cell_type": "code",
   "execution_count": 46,
   "id": "94cedda1",
   "metadata": {},
   "outputs": [
    {
     "data": {
      "text/plain": [
       "array([21.60925728, 13.48480626, 12.92130024, 16.90443729,  4.16653333])"
      ]
     },
     "execution_count": 46,
     "metadata": {},
     "output_type": "execute_result"
    }
   ],
   "source": [
    "np.std(array_2d, axis = 1) # Axis= 1 Meaning Standard Deviation Across The Columns"
   ]
  },
  {
   "cell_type": "code",
   "execution_count": 48,
   "id": "65f814f7",
   "metadata": {},
   "outputs": [
    {
     "data": {
      "text/plain": [
       "array([21.60925728, 13.48480626, 12.92130024, 16.90443729,  4.16653333])"
      ]
     },
     "execution_count": 48,
     "metadata": {},
     "output_type": "execute_result"
    }
   ],
   "source": [
    "array_2d.std(axis= 1)"
   ]
  }
 ],
 "metadata": {
  "kernelspec": {
   "display_name": "Python 3 (ipykernel)",
   "language": "python",
   "name": "python3"
  },
  "language_info": {
   "codemirror_mode": {
    "name": "ipython",
    "version": 3
   },
   "file_extension": ".py",
   "mimetype": "text/x-python",
   "name": "python",
   "nbconvert_exporter": "python",
   "pygments_lexer": "ipython3",
   "version": "3.8.12"
  }
 },
 "nbformat": 4,
 "nbformat_minor": 5
}
